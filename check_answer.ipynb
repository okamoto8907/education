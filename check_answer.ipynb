{
 "cells": [
  {
   "cell_type": "markdown",
   "metadata": {},
   "source": [
    "## text fileの読み込み"
   ]
  },
  {
   "cell_type": "markdown",
   "metadata": {},
   "source": [
    "```\n",
    "ファイルの読み込みを行なう\n",
    "readlines -> list形式でファイルを読み込む\n",
    "```"
   ]
  },
  {
   "cell_type": "code",
   "execution_count": 33,
   "metadata": {},
   "outputs": [
    {
     "name": "stdout",
     "output_type": "stream",
     "text": [
      "['1\\n', '1\\n', '3\\n', '3\\n', '4\\n', '2\\n', '2\\n', '2\\n', '4\\n', '4\\n']\n"
     ]
    }
   ],
   "source": [
    "f = open('var/answer.txt')\n",
    "answer = f.readlines()\n",
    "f.close()\n",
    "print(answer)"
   ]
  },
  {
   "cell_type": "code",
   "execution_count": 34,
   "metadata": {},
   "outputs": [
    {
     "name": "stdout",
     "output_type": "stream",
     "text": [
      "['1\\n', '1\\n', '1\\n', '1\\n', '2\\n', '2\\n', '2\\n', '2\\n', '3\\n', '3\\n']\n"
     ]
    }
   ],
   "source": [
    "f = open('var/student1.txt')\n",
    "student= f.readlines()\n",
    "f.close()\n",
    "print(student)"
   ]
  },
  {
   "cell_type": "markdown",
   "metadata": {},
   "source": [
    "## 一致、不一致の確認"
   ]
  },
  {
   "cell_type": "markdown",
   "metadata": {},
   "source": [
    "```\n",
    "loop文でファイルの行数だけ繰り返す\n",
    "len - >lengthの意味 -> リストの長さを意味する\n",
    "一致していたらOK、間違えであればNGを表示させる\n",
    "あっていた数だけcountさせる\n",
    "最後に正解の数➗問題数を表示させる\n",
    "```"
   ]
  },
  {
   "cell_type": "code",
   "execution_count": 35,
   "metadata": {},
   "outputs": [
    {
     "name": "stdout",
     "output_type": "stream",
     "text": [
      "0:OK\n",
      "1:OK\n",
      "2:NG\n",
      "3:NG\n",
      "4:NG\n",
      "5:OK\n",
      "6:OK\n",
      "7:OK\n",
      "8:NG\n",
      "9:NG\n",
      "不合格\n"
     ]
    }
   ],
   "source": [
    "count = 0\n",
    "for i in range(len(answer)):\n",
    "        if(answer[i] == student[i]):\n",
    "            print(str(i)+':OK')\n",
    "            count = count +1\n",
    "        else:\n",
    "            print(str(i)+':NG')\n",
    "\n",
    "            \n",
    "if(count/len(answer) >=0.6):            \n",
    "    print('合格')\n",
    "else:\n",
    "    print('不合格')"
   ]
  },
  {
   "cell_type": "code",
   "execution_count": null,
   "metadata": {},
   "outputs": [],
   "source": []
  }
 ],
 "metadata": {
  "kernelspec": {
   "display_name": "Python 3",
   "language": "python",
   "name": "python3"
  },
  "language_info": {
   "codemirror_mode": {
    "name": "ipython",
    "version": 3
   },
   "file_extension": ".py",
   "mimetype": "text/x-python",
   "name": "python",
   "nbconvert_exporter": "python",
   "pygments_lexer": "ipython3",
   "version": "3.7.3"
  }
 },
 "nbformat": 4,
 "nbformat_minor": 2
}
